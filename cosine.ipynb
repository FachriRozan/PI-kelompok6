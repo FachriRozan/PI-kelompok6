{
 "cells": [
  {
   "cell_type": "code",
   "execution_count": 5,
   "metadata": {},
   "outputs": [
    {
     "name": "stdout",
     "output_type": "stream",
     "text": [
      "Collecting nltk\n",
      "  Using cached nltk-3.8.1-py3-none-any.whl (1.5 MB)\n",
      "Collecting joblib\n",
      "  Using cached joblib-1.3.2-py3-none-any.whl (302 kB)\n",
      "Collecting regex>=2021.8.3\n",
      "  Downloading regex-2023.10.3-cp310-cp310-win_amd64.whl (269 kB)\n",
      "     ------------------------------------ 269.6/269.6 KB 614.5 kB/s eta 0:00:00\n",
      "Collecting click\n",
      "  Using cached click-8.1.7-py3-none-any.whl (97 kB)\n",
      "Collecting tqdm\n",
      "  Using cached tqdm-4.66.1-py3-none-any.whl (78 kB)\n",
      "Requirement already satisfied: colorama in c:\\users\\legion\\appdata\\roaming\\python\\python310\\site-packages (from click->nltk) (0.4.6)\n",
      "Installing collected packages: tqdm, regex, joblib, click, nltk\n",
      "Successfully installed click-8.1.7 joblib-1.3.2 nltk-3.8.1 regex-2023.10.3 tqdm-4.66.1\n",
      "Note: you may need to restart the kernel to use updated packages.\n"
     ]
    },
    {
     "name": "stderr",
     "output_type": "stream",
     "text": [
      "  WARNING: The script tqdm.exe is installed in 'c:\\Users\\LEGION\\AppData\\Local\\Programs\\Python\\Python310\\Scripts' which is not on PATH.\n",
      "  Consider adding this directory to PATH or, if you prefer to suppress this warning, use --no-warn-script-location.\n",
      "  WARNING: The script nltk.exe is installed in 'c:\\Users\\LEGION\\AppData\\Local\\Programs\\Python\\Python310\\Scripts' which is not on PATH.\n",
      "  Consider adding this directory to PATH or, if you prefer to suppress this warning, use --no-warn-script-location.\n",
      "WARNING: You are using pip version 22.0.4; however, version 23.2.1 is available.\n",
      "You should consider upgrading via the 'c:\\Users\\LEGION\\AppData\\Local\\Programs\\Python\\Python310\\python.exe -m pip install --upgrade pip' command.\n"
     ]
    }
   ],
   "source": [
    "pip install nltk"
   ]
  },
  {
   "cell_type": "code",
   "execution_count": 6,
   "metadata": {},
   "outputs": [
    {
     "name": "stdout",
     "output_type": "stream",
     "text": [
      "Collecting Sastrawi\n",
      "  Using cached Sastrawi-1.0.1-py2.py3-none-any.whl (209 kB)\n",
      "Installing collected packages: Sastrawi\n",
      "Successfully installed Sastrawi-1.0.1\n",
      "Note: you may need to restart the kernel to use updated packages.\n"
     ]
    },
    {
     "name": "stderr",
     "output_type": "stream",
     "text": [
      "WARNING: You are using pip version 22.0.4; however, version 23.2.1 is available.\n",
      "You should consider upgrading via the 'c:\\Users\\LEGION\\AppData\\Local\\Programs\\Python\\Python310\\python.exe -m pip install --upgrade pip' command.\n"
     ]
    }
   ],
   "source": [
    "pip install Sastrawi"
   ]
  },
  {
   "cell_type": "code",
   "execution_count": 9,
   "metadata": {},
   "outputs": [
    {
     "name": "stdout",
     "output_type": "stream",
     "text": [
      "Requirement already satisfied: numpy in c:\\users\\legion\\appdata\\local\\programs\\python\\python310\\lib\\site-packages (1.26.0)\n",
      "Note: you may need to restart the kernel to use updated packages.\n"
     ]
    },
    {
     "name": "stderr",
     "output_type": "stream",
     "text": [
      "WARNING: You are using pip version 22.0.4; however, version 23.2.1 is available.\n",
      "You should consider upgrading via the 'c:\\Users\\LEGION\\AppData\\Local\\Programs\\Python\\Python310\\python.exe -m pip install --upgrade pip' command.\n"
     ]
    },
    {
     "name": "stdout",
     "output_type": "stream",
     "text": [
      "Collecting numpy\n",
      "  Downloading numpy-1.26.0-cp310-cp310-win_amd64.whl (15.8 MB)\n",
      "     -------------------------------------- 15.8/15.8 MB 292.6 kB/s eta 0:00:00\n",
      "Installing collected packages: numpy\n",
      "Successfully installed numpy-1.26.0\n"
     ]
    },
    {
     "name": "stderr",
     "output_type": "stream",
     "text": [
      "  WARNING: The script f2py.exe is installed in 'c:\\Users\\LEGION\\AppData\\Local\\Programs\\Python\\Python310\\Scripts' which is not on PATH.\n",
      "  Consider adding this directory to PATH or, if you prefer to suppress this warning, use --no-warn-script-location.\n",
      "WARNING: You are using pip version 22.0.4; however, version 23.2.1 is available.\n",
      "You should consider upgrading via the 'c:\\Users\\LEGION\\AppData\\Local\\Programs\\Python\\Python310\\python.exe -m pip install --upgrade pip' command.\n"
     ]
    }
   ],
   "source": [
    "pip install numpy"
   ]
  },
  {
   "cell_type": "code",
   "execution_count": 11,
   "metadata": {},
   "outputs": [
    {
     "name": "stdout",
     "output_type": "stream",
     "text": [
      "Collecting sklearn\n",
      "  Downloading sklearn-0.0.post10.tar.gz (3.6 kB)\n",
      "  Preparing metadata (setup.py): started\n",
      "  Preparing metadata (setup.py): finished with status 'error'\n",
      "Note: you may need to restart the kernel to use updated packages.\n"
     ]
    },
    {
     "name": "stderr",
     "output_type": "stream",
     "text": [
      "  error: subprocess-exited-with-error\n",
      "  \n",
      "  × python setup.py egg_info did not run successfully.\n",
      "  │ exit code: 1\n",
      "  ╰─> [18 lines of output]\n",
      "      The 'sklearn' PyPI package is deprecated, use 'scikit-learn'\n",
      "      rather than 'sklearn' for pip commands.\n",
      "      \n",
      "      Here is how to fix this error in the main use cases:\n",
      "      - use 'pip install scikit-learn' rather than 'pip install sklearn'\n",
      "      - replace 'sklearn' by 'scikit-learn' in your pip requirements files\n",
      "        (requirements.txt, setup.py, setup.cfg, Pipfile, etc ...)\n",
      "      - if the 'sklearn' package is used by one of your dependencies,\n",
      "        it would be great if you take some time to track which package uses\n",
      "        'sklearn' instead of 'scikit-learn' and report it to their issue tracker\n",
      "      - as a last resort, set the environment variable\n",
      "        SKLEARN_ALLOW_DEPRECATED_SKLEARN_PACKAGE_INSTALL=True to avoid this error\n",
      "      \n",
      "      More information is available at\n",
      "      https://github.com/scikit-learn/sklearn-pypi-package\n",
      "      \n",
      "      If the previous advice does not cover your use case, feel free to report it at\n",
      "      https://github.com/scikit-learn/sklearn-pypi-package/issues/new\n",
      "      [end of output]\n",
      "  \n",
      "  note: This error originates from a subprocess, and is likely not a problem with pip.\n",
      "error: metadata-generation-failed\n",
      "\n",
      "× Encountered error while generating package metadata.\n",
      "╰─> See above for output.\n",
      "\n",
      "note: This is an issue with the package mentioned above, not pip.\n",
      "hint: See above for details.\n",
      "WARNING: You are using pip version 22.0.4; however, version 23.2.1 is available.\n",
      "You should consider upgrading via the 'c:\\Users\\LEGION\\AppData\\Local\\Programs\\Python\\Python310\\python.exe -m pip install --upgrade pip' command.\n"
     ]
    }
   ],
   "source": [
    "pip install sklearn"
   ]
  },
  {
   "cell_type": "code",
   "execution_count": 12,
   "metadata": {},
   "outputs": [
    {
     "ename": "ModuleNotFoundError",
     "evalue": "No module named 'sklearn'",
     "output_type": "error",
     "traceback": [
      "\u001b[1;31m---------------------------------------------------------------------------\u001b[0m",
      "\u001b[1;31mModuleNotFoundError\u001b[0m                       Traceback (most recent call last)",
      "\u001b[1;32mc:\\Users\\LEGION\\Documents\\Belajar Kuliah\\Semester 5\\PI\\proyek\\cosine.ipynb Cell 5\u001b[0m line \u001b[0;36m4\n\u001b[0;32m      <a href='vscode-notebook-cell:/c%3A/Users/LEGION/Documents/Belajar%20Kuliah/Semester%205/PI/proyek/cosine.ipynb#W3sZmlsZQ%3D%3D?line=1'>2</a>\u001b[0m \u001b[39mfrom\u001b[39;00m \u001b[39mSastrawi\u001b[39;00m\u001b[39m.\u001b[39;00m\u001b[39mStopWordRemover\u001b[39;00m\u001b[39m.\u001b[39;00m\u001b[39mStopWordRemoverFactory\u001b[39;00m \u001b[39mimport\u001b[39;00m StopWordRemoverFactory\n\u001b[0;32m      <a href='vscode-notebook-cell:/c%3A/Users/LEGION/Documents/Belajar%20Kuliah/Semester%205/PI/proyek/cosine.ipynb#W3sZmlsZQ%3D%3D?line=2'>3</a>\u001b[0m \u001b[39mimport\u001b[39;00m \u001b[39mnumpy\u001b[39;00m \u001b[39mas\u001b[39;00m \u001b[39mnp\u001b[39;00m\n\u001b[1;32m----> <a href='vscode-notebook-cell:/c%3A/Users/LEGION/Documents/Belajar%20Kuliah/Semester%205/PI/proyek/cosine.ipynb#W3sZmlsZQ%3D%3D?line=3'>4</a>\u001b[0m \u001b[39mfrom\u001b[39;00m \u001b[39msklearn\u001b[39;00m\u001b[39m.\u001b[39;00m\u001b[39mfeature_extraction\u001b[39;00m\u001b[39m.\u001b[39;00m\u001b[39mtext\u001b[39;00m \u001b[39mimport\u001b[39;00m TfidfVectorizer\n\u001b[0;32m      <a href='vscode-notebook-cell:/c%3A/Users/LEGION/Documents/Belajar%20Kuliah/Semester%205/PI/proyek/cosine.ipynb#W3sZmlsZQ%3D%3D?line=4'>5</a>\u001b[0m \u001b[39mfrom\u001b[39;00m \u001b[39msklearn\u001b[39;00m\u001b[39m.\u001b[39;00m\u001b[39mmetrics\u001b[39;00m\u001b[39m.\u001b[39;00m\u001b[39mpairwise\u001b[39;00m \u001b[39mimport\u001b[39;00m cosine_similarity\n\u001b[0;32m      <a href='vscode-notebook-cell:/c%3A/Users/LEGION/Documents/Belajar%20Kuliah/Semester%205/PI/proyek/cosine.ipynb#W3sZmlsZQ%3D%3D?line=5'>6</a>\u001b[0m \u001b[39mfrom\u001b[39;00m \u001b[39mSastrawi\u001b[39;00m\u001b[39m.\u001b[39;00m\u001b[39mStemmer\u001b[39;00m\u001b[39m.\u001b[39;00m\u001b[39mStemmerFactory\u001b[39;00m \u001b[39mimport\u001b[39;00m StemmerFactory\n",
      "\u001b[1;31mModuleNotFoundError\u001b[0m: No module named 'sklearn'"
     ]
    }
   ],
   "source": [
    "import os, glob, heapq, nltk, time, json\n",
    "from Sastrawi.StopWordRemover.StopWordRemoverFactory import StopWordRemoverFactory\n",
    "import numpy as np\n",
    "from sklearn.feature_extraction.text import TfidfVectorizer\n",
    "from sklearn.metrics.pairwise import cosine_similarity\n",
    "from Sastrawi.Stemmer.StemmerFactory import StemmerFactory\n",
    "from pretfidf import vectorizer\n",
    "\n",
    "# Create stopword remover object\n",
    "factory = StopWordRemoverFactory()\n",
    "stopword = factory.create_stop_word_remover()\n",
    "\n",
    "# Create a stemming object\n",
    "stemmer_factory = StemmerFactory()\n",
    "stemmer = stemmer_factory.create_stemmer()\n",
    "\n",
    "# Load the TF-IDF matrix\n",
    "tfidf_matrix = np.load('tfidf_matrix.npy', allow_pickle=True)\n",
    "\n",
    "# Tokenisasi, penghapusan stopwords, dan stemming pada query\n",
    "query = input(\"Masukkan kata yang ingin dicari: \")\n",
    "query = stopword.remove(query)  # Menghapus stopwords dari query\n",
    "query_tokens = nltk.word_tokenize(query)  # Tokenisasi query\n",
    "query_tokens = [stemmer.stem(word) for word in query_tokens]  # Melakukan stemming pada query\n",
    "\n",
    "# Transform the query into a TF-IDF vector using the same vectorizer\n",
    "query_vector = vectorizer.transform([' '.join(query_tokens)])\n",
    "\n",
    "# Calculate cosine similarity between the query and documents\n",
    "cosine_scores = cosine_similarity(query_vector, tfidf_matrix)\n",
    "\n",
    "# Load document names from the text file\n",
    "with open('document_names.txt', 'r', encoding='utf-8') as f:\n",
    "    document_names = [line.strip() for line in f.readlines()]\n",
    "\n",
    "# Load the URL to document info dictionary\n",
    "with open('urltodoc.json', 'r', encoding='utf-8') as f:\n",
    "    url_to_document = json.load(f)\n",
    "\n",
    "# Create a list to store the results with document titles, scores, and positions of query words\n",
    "results = []\n",
    "\n",
    "corpus_pi_path = 'C:/Users/USER/OneDrive/Desktop/SEMESTER 5/Akademik/PI-kelompok6/Koprus_PI'\n",
    "\n",
    "# Loop through the cosine scores and check if each document contains words from the query\n",
    "for idx, score in enumerate(cosine_scores[0]):\n",
    "    if score > 0:\n",
    "        # If the cosine score is greater than 0, it means the document contains words from the query\n",
    "        document_title = document_names[idx]  # Get the real document title\n",
    "        positions = []\n",
    "\n",
    "        # Open the document and find all the positions where the query word appears\n",
    "        with open(os.path.join(corpus_pi_path, document_title), 'r', encoding='utf-8') as f:\n",
    "            document = f.read()\n",
    "\n",
    "            for match in nltk.re.finditer(query, document):\n",
    "                positions.append(match.start())\n",
    "\n",
    "        # Get the URL for the document\n",
    "        document_url = url_to_document[document_title]\n",
    "\n",
    "        results.append((score, document_title, positions, document_url))\n",
    "\n",
    "# Sort the results by cosine score in descending order\n",
    "results.sort(reverse=True)\n",
    "\n",
    "start_time = time.time()\n",
    "\n",
    "# Print the ranking with document titles, scores, positions of query words, and URLs\n",
    "print(\"Dokumen teratas berdasarkan cosine similarity:\")\n",
    "for rank, (score, document_title, positions, document_url) in enumerate(results, start=1):\n",
    "    if score == 0:\n",
    "        continue\n",
    "    print(f\"Rank: {rank}\")\n",
    "    print(f\"Nama Dokumen: {document_title}\")\n",
    "    print(f\"Skor Cosine Similarity: {score:.8f}\")\n",
    "    print(f\"Posisi Index untuk Kata dalam Query: {positions}\")\n",
    "    print(f\"URL Dokumen: {document_url}\")\n",
    "    print()\n",
    "\n",
    "end_time = time.time()\n",
    "\n",
    "print(f\"Waktu eksekusi: {end_time - start_time:.2f} detik\")"
   ]
  }
 ],
 "metadata": {
  "kernelspec": {
   "display_name": "Python 3 (ipykernel)",
   "language": "python",
   "name": "python3"
  },
  "language_info": {
   "codemirror_mode": {
    "name": "ipython",
    "version": 3
   },
   "file_extension": ".py",
   "mimetype": "text/x-python",
   "name": "python",
   "nbconvert_exporter": "python",
   "pygments_lexer": "ipython3",
   "version": "3.10.4"
  }
 },
 "nbformat": 4,
 "nbformat_minor": 2
}
